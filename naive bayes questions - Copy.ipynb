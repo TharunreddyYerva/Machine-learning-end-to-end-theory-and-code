{
 "cells": [
  {
   "cell_type": "markdown",
   "metadata": {},
   "source": [
    "### 1. What are the basic Assumptions\n",
    "\n",
    "features are independent"
   ]
  },
  {
   "cell_type": "markdown",
   "metadata": {},
   "source": [
    "### 2. Advantages\n",
    "\n",
    "1. works very well with many no of features(ex: nlp problems)\n",
    "\n",
    "2. works well with large training datasets\n",
    "\n",
    "3. it converges faster when we are training model\n",
    "\n",
    "4. it is also perform well with categorical feature"
   ]
  },
  {
   "cell_type": "markdown",
   "metadata": {},
   "source": [
    "### 3. Disadvantages\n",
    "\n",
    "1. correlated feature affects performance"
   ]
  },
  {
   "cell_type": "markdown",
   "metadata": {},
   "source": [
    "### 4. Feature Scaling is required?\n",
    "\n",
    "no"
   ]
  },
  {
   "cell_type": "markdown",
   "metadata": {},
   "source": [
    "### 5. Impact of missing values "
   ]
  },
  {
   "cell_type": "markdown",
   "metadata": {},
   "source": [
    ". it not impact by missing values\n",
    "\n",
    "Naive Bayes can handle missing data. Attributes are handled separately by the algorithm at both model construction time and prediction time. As such, if a data instance has a missing value for an attribute, it can be ignored while preparing the model, and ignored when a probability is calculated for a class value."
   ]
  },
  {
   "cell_type": "markdown",
   "metadata": {},
   "source": [
    "### 6. Impact of outliers\n",
    "\n",
    ". yes\n",
    "\n",
    "In Gaussian Naive Bayes, outliers will affect the shape of the Gaussian distribution and have the usual effects on the mean etc. So depending on your use case, it still makes sense to remove outliers. Yes outlier affect naive bayes."
   ]
  },
  {
   "cell_type": "markdown",
   "metadata": {},
   "source": [
    "### 7. Real world applications \n",
    "\n",
    "Some of real world examples are as given below\n",
    "\n",
    ". To mark an email as spam, or not spam ?\n",
    "\n",
    ". Classify a news article about technology, politics, or sports ?\n",
    "\n",
    ". Check a piece of text expressing positive emotions, or negative emotions?\n",
    "\n",
    ". Also used for face recognition softwares"
   ]
  },
  {
   "cell_type": "code",
   "execution_count": null,
   "metadata": {},
   "outputs": [],
   "source": []
  }
 ],
 "metadata": {
  "kernelspec": {
   "display_name": "Python 3",
   "language": "python",
   "name": "python3"
  },
  "language_info": {
   "codemirror_mode": {
    "name": "ipython",
    "version": 3
   },
   "file_extension": ".py",
   "mimetype": "text/x-python",
   "name": "python",
   "nbconvert_exporter": "python",
   "pygments_lexer": "ipython3",
   "version": "3.8.5"
  }
 },
 "nbformat": 4,
 "nbformat_minor": 4
}
